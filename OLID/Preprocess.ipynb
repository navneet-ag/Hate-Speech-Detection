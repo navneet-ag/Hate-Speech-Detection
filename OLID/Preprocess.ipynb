{
 "cells": [
  {
   "cell_type": "code",
   "execution_count": 1,
   "metadata": {},
   "outputs": [],
   "source": [
    "import pandas as pd\n",
    "import nltk\n",
    "import string\n",
    "import re\n",
    "import numpy as np\n",
    "from tqdm import tqdm\n",
    "import pandas as pd\n",
    "from nltk.stem import WordNetLemmatizer \n",
    "from nltk.tokenize import word_tokenize\n",
    "import preprocessor as p\n",
    "from nltk.corpus import stopwords\n",
    "from tqdm import tqdm"
   ]
  },
  {
   "cell_type": "code",
   "execution_count": 2,
   "metadata": {},
   "outputs": [],
   "source": [
    "# Function to get All caps count from the tweets\n",
    "# pass tweets as it is\n",
    "def FuncAllCapsCount(GivenTweets):\n",
    "    AllCapsCount=np.zeros(len(GivenTweets))\n",
    "    for i in tqdm(range(len(GivenTweets))):\n",
    "        tweet=nltk.word_tokenize(GivenTweets[i])\n",
    "        for word in tweet:\n",
    "            if(word!=\"I\" and word!=\"USER\" and re.match(\"^[A-Z]+$\",word)):\n",
    "                AllCapsCount[i]+=1\n",
    "    return(AllCapsCount)"
   ]
  },
  {
   "cell_type": "code",
   "execution_count": 3,
   "metadata": {},
   "outputs": [],
   "source": [
    "# Function to get COntinuous Punctuation (???,??!,!!) Count and check if last token was a ? or !\n",
    "# pass tweets as it is\n",
    "def FuncPunctuationsCount(GivenTweets):\n",
    "    ContPunctuationCount=np.zeros(len(GivenTweets))\n",
    "    LastTokenPunctuation=np.zeros(len(GivenTweets))\n",
    "    for i in tqdm(range(len(GivenTweets))):\n",
    "        tweet=nltk.word_tokenize(GivenTweets[i])\n",
    "        token=0\n",
    "        while token<len(tweet):\n",
    "            if(tweet[token]==\"?\" or tweet[token]==\"!\"):\n",
    "                index=token+1\n",
    "                while(index< len(tweet) and (tweet[index]==\"?\" or tweet[index]==\"!\")):\n",
    "                    index+=1\n",
    "                if(index-token>1):\n",
    "                    ContPunctuationCount[i]+=1\n",
    "                    token=index\n",
    "            token+=1\n",
    "        if(tweet[len(tweet)-1]==\"?\" or tweet[len(tweet)-1]==\"!\"):\n",
    "            LastTokenPunctuation[i]+=1\n",
    "    \n",
    "    return(ContPunctuationCount,LastTokenPunctuation)"
   ]
  },
  {
   "cell_type": "code",
   "execution_count": 4,
   "metadata": {},
   "outputs": [],
   "source": [
    "# Fucntion to get HashTag count from the tweets\n",
    "# pass tweets as it is\n",
    "def FuncHashtagsCount(GivenTweets):    \n",
    "    HashTagsCount=np.zeros(len(GivenTweets))\n",
    "    for i in tqdm(range(len(GivenTweets))):\n",
    "        tweet=GivenTweets[i].split(\" \")\n",
    "        for word in tweet:\n",
    "            if(re.match(\"^#[a-zA-Z][a-zA-Z0-9]*\",word)):\n",
    "                HashTagsCount[i]+=1\n",
    "    return(HashTagsCount)"
   ]
  },
  {
   "cell_type": "code",
   "execution_count": 5,
   "metadata": {},
   "outputs": [],
   "source": [
    "# NRC-Hashtag-Emotion-Lexicon\n",
    "def Func_NRC_Hashtag_Emotion(GivenTweets):\n",
    "    d_emotion=pd.read_csv(\"./lexicons/5. NRC-Hashtag-Emotion-Lexicon-v0.2.txt\", sep='\\t', names=['emotion','word','score'], header=None)\n",
    "    dic_dEmo={}\n",
    "    for i in range(len(d_emotion['word'])):\n",
    "        if d_emotion['emotion'][i]==\"anger\":\n",
    "            dic_dEmo[d_emotion['word'][i]]=d_emotion['score'][i]\n",
    "    aggEmoHashtags=np.zeros(len(GivenTweets))\n",
    "    for i in range(len(GivenTweets)):\n",
    "        tweet=GivenTweets[i]\n",
    "        hashtags = [j  for j in tweet.split() if j.startswith(\"#\") ]\n",
    "        for tag in hashtags:\n",
    "            word=tag.lower()\n",
    "            if word in dic_dEmo:\n",
    "                aggEmoHashtags[i]+=dic_dEmo[word]\n",
    "            elif word[1:] in dic_dEmo:\n",
    "                aggEmoHashtags[i]+=dic_dEmo[word[1:]]\n",
    "    return(aggEmoHashtags)\n",
    "    \n",
    "    #     Vector aggEmoHashtags conatains Aggregate emotion score (Hashtags)\n",
    "    #     Adding features into dataframe\n"
   ]
  },
  {
   "cell_type": "code",
   "execution_count": 22,
   "metadata": {},
   "outputs": [],
   "source": [
    "# NRC-Hashtag-Emotion-Lexicon\n",
    "def Func_NRC_10_Expanded_Emotion(GivenTweets):\n",
    "    d_emotion=pd.read_csv(\"./lexicons/6. NRC-10-expanded.csv\", sep='\\t')\n",
    "    dic_dEmo={}\n",
    "    for i in range(len(d_emotion['word'])):\n",
    "        dic_dEmo[d_emotion['word'][i]]=d_emotion['anger'][i]\n",
    "    aggScoreEmo=np.zeros(len(GivenTweets))\n",
    "    for i in range(len(GivenTweets)):\n",
    "#         print(i)\n",
    "        tweet=GivenTweets[i]\n",
    "        for word in word_tokenize(tweet):\n",
    "            if word in dic_dEmo:\n",
    "#                 print(word)\n",
    "                aggScoreEmo[i]+=dic_dEmo[word]\n",
    "    return(aggScoreEmo)"
   ]
  },
  {
   "cell_type": "code",
   "execution_count": 7,
   "metadata": {},
   "outputs": [],
   "source": [
    "def Func_NRC_word_emotion_lexicon(GivenTweets):\n",
    "    emotion_count=np.zeros(len(GivenTweets))\n",
    "    emotions_df=pd.read_csv(\"./lexicons/8. NRC-word-emotion-lexicon.txt\", sep='\\t', names=['word','emotion','score'], header=None)\n",
    "    # This set contains words with Emotion X=1 in above dataframe\n",
    "    set_emo=set()\n",
    "    for i in range(len(emotions_df['word'])):\n",
    "        if emotions_df['emotion'][i]==\"anger\" and emotions_df['score'][i]==1:\n",
    "            set_emo.add(emotions_df['word'][i])\n",
    "\n",
    "    for i in range(len(GivenTweets)):\n",
    "        tweet=word_tokenize(GivenTweets[i])\n",
    "        for word in tweet:\n",
    "            word_lower=word.lower()\n",
    "            if word_lower in set_emo:\n",
    "                emotion_count[i]+=1\n",
    "    return(emotion_count)"
   ]
  },
  {
   "cell_type": "markdown",
   "metadata": {},
   "source": [
    "# Preprocess main function"
   ]
  },
  {
   "cell_type": "code",
   "execution_count": 11,
   "metadata": {},
   "outputs": [],
   "source": [
    "def preprocess_text(tweet, flag_stemm=False, flag_lemm=False, stop_words_list=None):\n",
    "    \n",
    "    ## clean (convert to lowercase and remove punctuations and characters and then strip)\n",
    "    tweet = re.sub(r'[^\\w\\s]', '', str(tweet).lower().strip())\n",
    "    ## Tokenize (convert from string to list) and remove the stop words\n",
    "    tokenize_tweet = tweet.split()\n",
    "\n",
    "    if stop_words_list is not None:\n",
    "        tokenize_tweet = [word for word in tokenize_tweet if word not in stop_words_list]\n",
    "\n",
    "\n",
    "    ## Stemming (remove -ing, -ly, ...)\n",
    "    if flag_stemm == True:\n",
    "        ps = nltk.stem.porter.PorterStemmer()\n",
    "        tokenize_tweet = [ps.stem(word) for word in tokenize_tweet]\n",
    "\n",
    "    ## Lemmatisation (convert the word into root word)\n",
    "    if flag_lemm == True:\n",
    "        lem = nltk.stem.wordnet.WordNetLemmatizer()\n",
    "        tokenize_tweet = [lem.lemmatize(word) for word in tokenize_tweet]\n",
    "#     print(tokenize_tweet)\n",
    "    ## back to string from list\n",
    "    tweet = \" \".join(tokenize_tweet)\n",
    "    return tweet"
   ]
  },
  {
   "cell_type": "markdown",
   "metadata": {},
   "source": [
    "# Preprocess caller function"
   ]
  },
  {
   "cell_type": "code",
   "execution_count": 12,
   "metadata": {},
   "outputs": [],
   "source": [
    "def preprocess_text_caller(Tweets_List):\n",
    "    stop_words_list=stopwords.words('english')\n",
    "    for i in (range(len(Tweets_List))):\n",
    "        Tweets_List[i]=preprocess_text(Tweets_List[i])"
   ]
  },
  {
   "cell_type": "code",
   "execution_count": 23,
   "metadata": {},
   "outputs": [],
   "source": [
    "def feature_extraction(Tweets_List):\n",
    "    #Counting the Capital Words\n",
    "    df_feature=pd.DataFrame(FuncAllCapsCount(Tweets_List)).astype('int64')\n",
    "    df_feature.rename(columns={0:\"all_caps_count\"},inplace=True)\n",
    "#     df_feature[\"all_caps_count\"]=df_feature[\"all_caps_count\"].astype('int32')\n",
    "\n",
    "    #Counting The Punctuations\n",
    "    ContPunctuationCount,LastTokenPunctuation=FuncPunctuationsCount(Tweets_List)\n",
    "    df_feature[\"Cont_Punc_Count\"]=pd.DataFrame(ContPunctuationCount).astype('int64')\n",
    "    df_feature[\"Last_Token_Punc\"]=pd.DataFrame(LastTokenPunctuation).astype('int64')\n",
    "    \n",
    "    #Count the hash tags\n",
    "    df_feature[\"HashTag_Count\"]=pd.DataFrame(FuncHashtagsCount(Tweets_List)).astype('int64')\n",
    "    df_feature[\"Anger word count\"]=pd.DataFrame(Func_NRC_word_emotion_lexicon(Tweets_List)).astype('int64')\n",
    "    \n",
    "    \n",
    "    \n",
    "    df_feature[\"NRC_Hashtag\"]=pd.DataFrame(Func_NRC_Hashtag_Emotion(Tweets_List))\n",
    "    \n",
    "    df_feature[\"NRC_10_Expanded\"]=pd.DataFrame(Func_NRC_10_Expanded_Emotion(Tweets_List))\n",
    "\n",
    "    return(df_feature)"
   ]
  },
  {
   "cell_type": "markdown",
   "metadata": {},
   "source": [
    "# Use this for preprocessing"
   ]
  },
  {
   "cell_type": "code",
   "execution_count": 14,
   "metadata": {},
   "outputs": [
    {
     "name": "stderr",
     "output_type": "stream",
     "text": [
      "<ipython-input-12-2b67d72cee89>:4: SettingWithCopyWarning: \n",
      "A value is trying to be set on a copy of a slice from a DataFrame\n",
      "\n",
      "See the caveats in the documentation: https://pandas.pydata.org/pandas-docs/stable/user_guide/indexing.html#returning-a-view-versus-a-copy\n",
      "  Tweets_List[i]=preprocess_text(Tweets_List[i])\n"
     ]
    }
   ],
   "source": [
    "df_training=pd.DataFrame(pd.read_csv(\"olid-training-v1.0.tsv\",sep=\"\\t\"))\n",
    "df_training['tweet_original']=df_training['tweet']\n",
    "preprocess_text_caller(df_training['tweet'])"
   ]
  },
  {
   "cell_type": "code",
   "execution_count": 25,
   "metadata": {},
   "outputs": [
    {
     "data": {
      "text/plain": [
       "Index(['all_caps_count', 'Cont_Punc_Count', 'Last_Token_Punc', 'HashTag_Count',\n",
       "       'Anger word count', 'NRC_Hashtag', 'NRC_10_Expanded'],\n",
       "      dtype='object')"
      ]
     },
     "execution_count": 25,
     "metadata": {},
     "output_type": "execute_result"
    }
   ],
   "source": [
    "a.columns"
   ]
  },
  {
   "cell_type": "markdown",
   "metadata": {},
   "source": [
    "# use the below statement to extract features"
   ]
  },
  {
   "cell_type": "code",
   "execution_count": 24,
   "metadata": {},
   "outputs": [
    {
     "name": "stderr",
     "output_type": "stream",
     "text": [
      "100%|██████████| 13240/13240 [00:03<00:00, 3682.79it/s]\n",
      "100%|██████████| 13240/13240 [00:03<00:00, 3902.36it/s]\n",
      "100%|██████████| 13240/13240 [00:00<00:00, 49658.08it/s]\n"
     ]
    }
   ],
   "source": [
    "a=feature_extraction(df_training['tweet_original'])"
   ]
  },
  {
   "cell_type": "code",
   "execution_count": 230,
   "metadata": {},
   "outputs": [
    {
     "data": {
      "text/plain": [
       "Index(['id', 'tweet', 'subtask_a', 'subtask_b', 'subtask_c', 'tweet_original'], dtype='object')"
      ]
     },
     "execution_count": 230,
     "metadata": {},
     "output_type": "execute_result"
    }
   ],
   "source": [
    "# count=0\n",
    "# for i in df_training['tweet_original'][0:100]:\n",
    "#     print(count,i)\n",
    "#     count+=1\n",
    "df_training.columns"
   ]
  },
  {
   "cell_type": "code",
   "execution_count": 219,
   "metadata": {},
   "outputs": [],
   "source": [
    "tweets_train=df_training['tweet_original'][0:100]"
   ]
  },
  {
   "cell_type": "code",
   "execution_count": 26,
   "metadata": {},
   "outputs": [],
   "source": [
    "from sklearn.model_selection import train_test_split\n",
    "X_train, X_test, y_train, y_test = train_test_split(a, df_training[\"subtask_a\"], test_size=0.33, random_state=42,shuffle=True)"
   ]
  },
  {
   "cell_type": "code",
   "execution_count": 27,
   "metadata": {},
   "outputs": [],
   "source": [
    "from sklearn.ensemble import RandomForestClassifier\n",
    "clf = RandomForestClassifier(max_depth=2, random_state=0)\n",
    "clf.fit(X_train, y_train)\n",
    "y_pred=clf.predict(X_test)\n"
   ]
  },
  {
   "cell_type": "code",
   "execution_count": 28,
   "metadata": {},
   "outputs": [],
   "source": [
    "from sklearn.metrics import *"
   ]
  },
  {
   "cell_type": "code",
   "execution_count": 29,
   "metadata": {},
   "outputs": [
    {
     "data": {
      "text/plain": [
       "0.6643020594965675"
      ]
     },
     "execution_count": 29,
     "metadata": {},
     "output_type": "execute_result"
    }
   ],
   "source": [
    "accuracy_score(y_test,y_pred)"
   ]
  },
  {
   "cell_type": "code",
   "execution_count": 32,
   "metadata": {},
   "outputs": [
    {
     "data": {
      "text/plain": [
       "0.39914753196755126"
      ]
     },
     "execution_count": 32,
     "metadata": {},
     "output_type": "execute_result"
    }
   ],
   "source": [
    "f1_score(y_test,y_pred,average='macro')"
   ]
  },
  {
   "cell_type": "code",
   "execution_count": 50,
   "metadata": {},
   "outputs": [
    {
     "data": {
      "text/plain": [
       "array([0.40036232, 0.40036232, 0.40036232, 0.40036232, 0.40036232])"
      ]
     },
     "execution_count": 50,
     "metadata": {},
     "output_type": "execute_result"
    }
   ],
   "source": [
    "from sklearn.model_selection import cross_val_score\n",
    "clf = RandomForestClassifier(max_depth=2, random_state=0)\n",
    "scores = cross_val_score(clf, a, df_training[\"subtask_a\"], cv=5,scoring='f1_macro')\n",
    "scores"
   ]
  },
  {
   "cell_type": "code",
   "execution_count": 36,
   "metadata": {},
   "outputs": [
    {
     "data": {
      "text/plain": [
       "0.4003623188405797"
      ]
     },
     "execution_count": 36,
     "metadata": {},
     "output_type": "execute_result"
    }
   ],
   "source": [
    "scores.mean()"
   ]
  },
  {
   "cell_type": "code",
   "execution_count": 37,
   "metadata": {},
   "outputs": [],
   "source": [
    "from sklearn.feature_extraction.text import CountVectorizer\n",
    "# ngram_range parameter (1,2) means that unigram and bigram will be taken\n",
    "# Count Vecotrizer automatically preprocess the tweets\n",
    "vectorizer = CountVectorizer(ngram_range=(1,4),min_df=10)"
   ]
  },
  {
   "cell_type": "code",
   "execution_count": 38,
   "metadata": {},
   "outputs": [],
   "source": [
    "# fit was used to learn the vocabulary\n",
    "TempVector=vectorizer.fit(df_training.tweet)"
   ]
  },
  {
   "cell_type": "code",
   "execution_count": 39,
   "metadata": {},
   "outputs": [
    {
     "data": {
      "text/plain": [
       "5491"
      ]
     },
     "execution_count": 39,
     "metadata": {},
     "output_type": "execute_result"
    }
   ],
   "source": [
    "# Getting the vocabulary for ngrams\n",
    "Vocab_ngrams=TempVector.get_feature_names()\n",
    "len(Vocab_ngrams)\n"
   ]
  },
  {
   "cell_type": "code",
   "execution_count": 40,
   "metadata": {},
   "outputs": [],
   "source": [
    "Vocab={}\n",
    "for i in range(len(Vocab_ngrams)):\n",
    "    Vocab[i]=Vocab_ngrams[i]"
   ]
  },
  {
   "cell_type": "code",
   "execution_count": 41,
   "metadata": {},
   "outputs": [],
   "source": [
    "import pickle\n",
    "file=open(\"Dictionay_ngram_features_50k\",'wb')\n",
    "pickle.dump(Vocab,file)\n",
    "file.close()"
   ]
  },
  {
   "cell_type": "code",
   "execution_count": 43,
   "metadata": {},
   "outputs": [],
   "source": [
    "# Now we can use this vocabulary to individually create ngrams for train and test set\n",
    "# fit transform is used here as we want the counts too\n",
    "vectorizer2 = CountVectorizer(ngram_range=(1,4), vocabulary=Vocab_ngrams)\n",
    "Train_ngrams=vectorizer2.fit_transform(df_training.tweet)\n"
   ]
  },
  {
   "cell_type": "code",
   "execution_count": 44,
   "metadata": {},
   "outputs": [],
   "source": [
    "from scipy.sparse import csr_matrix, hstack\n",
    "\n",
    "csr_TrainFeature_without_ngram=csr_matrix(a)\n",
    "TrainFeatureFinal=hstack([Train_ngrams,csr_TrainFeature_without_ngram])\n"
   ]
  },
  {
   "cell_type": "code",
   "execution_count": 46,
   "metadata": {},
   "outputs": [
    {
     "data": {
      "text/plain": [
       "<13240x5498 sparse matrix of type '<class 'numpy.float64'>'\n",
       "\twith 327755 stored elements in COOrdinate format>"
      ]
     },
     "execution_count": 46,
     "metadata": {},
     "output_type": "execute_result"
    }
   ],
   "source": [
    "TrainFeatureFinal"
   ]
  },
  {
   "cell_type": "code",
   "execution_count": 49,
   "metadata": {},
   "outputs": [
    {
     "data": {
      "text/plain": [
       "array([0.40036232, 0.40036232, 0.40036232, 0.40036232, 0.40036232])"
      ]
     },
     "execution_count": 49,
     "metadata": {},
     "output_type": "execute_result"
    }
   ],
   "source": [
    "from sklearn.model_selection import cross_val_score\n",
    "clf = RandomForestClassifier(max_depth=2, random_state=0)\n",
    "scores = cross_val_score(clf, TrainFeatureFinal, df_training[\"subtask_a\"], cv=5,scoring='f1_macro')\n",
    "scores"
   ]
  },
  {
   "cell_type": "code",
   "execution_count": null,
   "metadata": {},
   "outputs": [
    {
     "name": "stdout",
     "output_type": "stream",
     "text": [
      "Iteration 1, loss = 0.62520551\n",
      "Iteration 2, loss = 0.48757782\n",
      "Iteration 3, loss = 0.39216314\n",
      "Iteration 4, loss = 0.32469646\n",
      "Iteration 5, loss = 0.26715988\n",
      "Iteration 6, loss = 0.21961100\n",
      "Iteration 7, loss = 0.18211844\n",
      "Iteration 8, loss = 0.15403013\n",
      "Iteration 9, loss = 0.12947802\n",
      "Iteration 10, loss = 0.11065040\n",
      "Iteration 11, loss = 0.09653280\n",
      "Iteration 12, loss = 0.08434173\n",
      "Iteration 13, loss = 0.07514193\n",
      "Iteration 14, loss = 0.06628305\n",
      "Iteration 15, loss = 0.05941888\n",
      "Iteration 16, loss = 0.05565459\n",
      "Iteration 17, loss = 0.05210340\n",
      "Iteration 18, loss = 0.04805488\n",
      "Iteration 19, loss = 0.04428321\n",
      "Iteration 20, loss = 0.04046371\n",
      "Iteration 21, loss = 0.03719220\n",
      "Iteration 22, loss = 0.03699402\n",
      "Iteration 23, loss = 0.03436045\n",
      "Iteration 24, loss = 0.03293258\n",
      "Iteration 25, loss = 0.03177976\n",
      "Iteration 26, loss = 0.02905575\n",
      "Iteration 27, loss = 0.02929237\n",
      "Iteration 28, loss = 0.02714320\n",
      "Iteration 29, loss = 0.02656292\n",
      "Iteration 30, loss = 0.02561314\n",
      "Iteration 31, loss = 0.02550318\n",
      "Iteration 32, loss = 0.02376198\n",
      "Iteration 33, loss = 0.02462129\n",
      "Iteration 34, loss = 0.02412119\n",
      "Iteration 35, loss = 0.02301888\n",
      "Iteration 36, loss = 0.02239770\n",
      "Iteration 37, loss = 0.02241697\n",
      "Iteration 38, loss = 0.02228438\n",
      "Iteration 39, loss = 0.01988363\n",
      "Iteration 40, loss = 0.02035904\n",
      "Iteration 41, loss = 0.02136457\n",
      "Iteration 42, loss = 0.02565196\n",
      "Iteration 43, loss = 0.01908060\n",
      "Iteration 44, loss = 0.01929171\n",
      "Iteration 45, loss = 0.01810075\n",
      "Iteration 46, loss = 0.01794864\n",
      "Iteration 47, loss = 0.01724385\n",
      "Iteration 48, loss = 0.01649994\n",
      "Iteration 49, loss = 0.01773028\n",
      "Iteration 50, loss = 0.01686080\n",
      "Iteration 51, loss = 0.01640859\n",
      "Iteration 52, loss = 0.01719081\n",
      "Iteration 53, loss = 0.01557037\n",
      "Iteration 54, loss = 0.01658322\n",
      "Iteration 55, loss = 0.01608413\n",
      "Iteration 56, loss = 0.01647308\n",
      "Iteration 57, loss = 0.01628431\n",
      "Iteration 58, loss = 0.01607941\n",
      "Iteration 59, loss = 0.01536067\n",
      "Iteration 60, loss = 0.01585084\n",
      "Iteration 61, loss = 0.01553671\n",
      "Iteration 62, loss = 0.01528169\n",
      "Iteration 63, loss = 0.01465794\n",
      "Iteration 64, loss = 0.01492888\n",
      "Iteration 65, loss = 0.01488473\n",
      "Iteration 66, loss = 0.01557898\n",
      "Iteration 67, loss = 0.01449011\n",
      "Iteration 68, loss = 0.01587344\n",
      "Iteration 69, loss = 0.01495088\n",
      "Iteration 70, loss = 0.01566727\n",
      "Iteration 71, loss = 0.01468259\n",
      "Iteration 72, loss = 0.01514528\n",
      "Iteration 73, loss = 0.01416618\n",
      "Iteration 74, loss = 0.01378025\n",
      "Iteration 75, loss = 0.02174792\n",
      "Iteration 76, loss = 0.01874785\n",
      "Iteration 77, loss = 0.01589006\n",
      "Iteration 78, loss = 0.01321244\n",
      "Iteration 79, loss = 0.01396404\n",
      "Iteration 80, loss = 0.01347236\n",
      "Iteration 81, loss = 0.01399329\n",
      "Iteration 82, loss = 0.01321955\n",
      "Iteration 83, loss = 0.01363905\n",
      "Iteration 84, loss = 0.01324552\n",
      "Iteration 85, loss = 0.01310161\n",
      "Iteration 86, loss = 0.01384250\n",
      "Iteration 87, loss = 0.01256999\n",
      "Iteration 88, loss = 0.01336354\n",
      "Iteration 89, loss = 0.01360034\n",
      "Iteration 90, loss = 0.01281308\n",
      "Iteration 91, loss = 0.01180183\n",
      "Iteration 92, loss = 0.01300342\n",
      "Iteration 93, loss = 0.01313800\n",
      "Iteration 94, loss = 0.01295135\n",
      "Iteration 95, loss = 0.01322986\n",
      "Iteration 96, loss = 0.01406374\n",
      "Iteration 97, loss = 0.01193201\n",
      "Iteration 98, loss = 0.01341115\n",
      "Iteration 99, loss = 0.01362012\n",
      "Iteration 100, loss = 0.01275628\n",
      "Iteration 101, loss = 0.01302594\n",
      "Iteration 102, loss = 0.01169624\n",
      "Iteration 103, loss = 0.01256458\n",
      "Iteration 104, loss = 0.01410368\n",
      "Iteration 105, loss = 0.01373605\n",
      "Iteration 106, loss = 0.01225946\n",
      "Iteration 107, loss = 0.01297285\n",
      "Iteration 108, loss = 0.01322893\n",
      "Iteration 109, loss = 0.01278860\n",
      "Iteration 110, loss = 0.01189941\n",
      "Iteration 111, loss = 0.01318636\n",
      "Iteration 112, loss = 0.01288753\n",
      "Iteration 113, loss = 0.01216266\n",
      "Training loss did not improve more than tol=0.000100 for 10 consecutive epochs. Stopping.\n",
      "Iteration 1, loss = 0.61473099\n",
      "Iteration 2, loss = 0.48566763\n",
      "Iteration 3, loss = 0.39313119\n",
      "Iteration 4, loss = 0.32635339\n",
      "Iteration 5, loss = 0.26943889\n",
      "Iteration 6, loss = 0.22831903\n",
      "Iteration 7, loss = 0.19042852\n",
      "Iteration 8, loss = 0.16218506\n",
      "Iteration 9, loss = 0.13765104\n",
      "Iteration 10, loss = 0.11926886\n",
      "Iteration 11, loss = 0.10270623\n",
      "Iteration 12, loss = 0.09101437\n",
      "Iteration 13, loss = 0.08092741\n",
      "Iteration 14, loss = 0.07150646\n",
      "Iteration 15, loss = 0.06463799\n",
      "Iteration 16, loss = 0.05993578\n",
      "Iteration 17, loss = 0.05421871\n",
      "Iteration 18, loss = 0.05084738\n",
      "Iteration 19, loss = 0.04633079\n",
      "Iteration 20, loss = 0.04306460\n",
      "Iteration 21, loss = 0.04103051\n",
      "Iteration 22, loss = 0.03754881\n",
      "Iteration 23, loss = 0.03537340\n",
      "Iteration 24, loss = 0.03474015\n",
      "Iteration 25, loss = 0.03430413\n",
      "Iteration 26, loss = 0.03561665\n",
      "Iteration 27, loss = 0.03031862\n",
      "Iteration 28, loss = 0.02812547\n",
      "Iteration 29, loss = 0.02590902\n",
      "Iteration 30, loss = 0.02562686\n",
      "Iteration 31, loss = 0.02476075\n",
      "Iteration 32, loss = 0.02395389\n",
      "Iteration 33, loss = 0.02249887\n",
      "Iteration 34, loss = 0.02201731\n",
      "Iteration 35, loss = 0.02238587\n",
      "Iteration 36, loss = 0.02169383\n",
      "Iteration 37, loss = 0.02011211\n",
      "Iteration 38, loss = 0.01974393\n",
      "Iteration 39, loss = 0.01880373\n",
      "Iteration 40, loss = 0.01936512\n",
      "Iteration 41, loss = 0.01775292\n"
     ]
    }
   ],
   "source": [
    "from sklearn.neural_network import MLPClassifier\n",
    "clf2 = MLPClassifier(max_iter=300)\n",
    "scores = cross_val_score(clf2, TrainFeatureFinal, df_training[\"subtask_a\"], cv=5,scoring='f1_macro')\n",
    "scores"
   ]
  },
  {
   "cell_type": "code",
   "execution_count": null,
   "metadata": {},
   "outputs": [],
   "source": []
  }
 ],
 "metadata": {
  "kernelspec": {
   "display_name": "Python 3",
   "language": "python",
   "name": "python3"
  },
  "language_info": {
   "codemirror_mode": {
    "name": "ipython",
    "version": 3
   },
   "file_extension": ".py",
   "mimetype": "text/x-python",
   "name": "python",
   "nbconvert_exporter": "python",
   "pygments_lexer": "ipython3",
   "version": "3.8.5"
  }
 },
 "nbformat": 4,
 "nbformat_minor": 4
}
