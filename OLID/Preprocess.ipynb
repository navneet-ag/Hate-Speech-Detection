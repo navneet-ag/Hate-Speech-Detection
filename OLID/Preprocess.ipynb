{
 "cells": [
  {
   "cell_type": "code",
   "execution_count": 1,
   "metadata": {},
   "outputs": [],
   "source": [
    "import pandas as pd\n",
    "import nltk\n",
    "import string\n",
    "import re\n",
    "import numpy as np\n",
    "from tqdm import tqdm\n",
    "import pandas as pd\n",
    "from nltk.stem import WordNetLemmatizer \n",
    "from nltk.tokenize import word_tokenize\n",
    "import preprocessor as p\n",
    "from nltk.corpus import stopwords\n",
    "from tqdm import tqdm"
   ]
  },
  {
   "cell_type": "code",
   "execution_count": 2,
   "metadata": {},
   "outputs": [],
   "source": [
    "# Function to get All caps count from the tweets\n",
    "# pass tweets as it is\n",
    "def FuncAllCapsCount(GivenTweets):\n",
    "    AllCapsCount=np.zeros(len(GivenTweets))\n",
    "    for i in tqdm(range(len(GivenTweets))):\n",
    "        tweet=nltk.word_tokenize(GivenTweets[i])\n",
    "        for word in tweet:\n",
    "            if(word!=\"I\" and word!=\"USER\" and re.match(\"^[A-Z]+$\",word)):\n",
    "                AllCapsCount[i]+=1\n",
    "    return(AllCapsCount)"
   ]
  },
  {
   "cell_type": "code",
   "execution_count": 3,
   "metadata": {},
   "outputs": [],
   "source": [
    "# Function to get COntinuous Punctuation (???,??!,!!) Count and check if last token was a ? or !\n",
    "# pass tweets as it is\n",
    "def FuncPunctuationsCount(GivenTweets):\n",
    "    ContPunctuationCount=np.zeros(len(GivenTweets))\n",
    "    LastTokenPunctuation=np.zeros(len(GivenTweets))\n",
    "    for i in tqdm(range(len(GivenTweets))):\n",
    "        tweet=nltk.word_tokenize(GivenTweets[i])\n",
    "        token=0\n",
    "        while token<len(tweet):\n",
    "            if(tweet[token]==\"?\" or tweet[token]==\"!\"):\n",
    "                index=token+1\n",
    "                while(index< len(tweet) and (tweet[index]==\"?\" or tweet[index]==\"!\")):\n",
    "                    index+=1\n",
    "                if(index-token>1):\n",
    "                    ContPunctuationCount[i]+=1\n",
    "                    token=index\n",
    "            token+=1\n",
    "        if(tweet[len(tweet)-1]==\"?\" or tweet[len(tweet)-1]==\"!\"):\n",
    "            LastTokenPunctuation[i]+=1\n",
    "    \n",
    "    return(ContPunctuationCount,LastTokenPunctuation)"
   ]
  },
  {
   "cell_type": "code",
   "execution_count": 4,
   "metadata": {},
   "outputs": [],
   "source": [
    "# Fucntion to get HashTag count from the tweets\n",
    "# pass tweets as it is\n",
    "def FuncHashtagsCount(GivenTweets):    \n",
    "    HashTagsCount=np.zeros(len(GivenTweets))\n",
    "    for i in tqdm(range(len(GivenTweets))):\n",
    "        tweet=GivenTweets[i].split(\" \")\n",
    "        for word in tweet:\n",
    "            if(re.match(\"^#[a-zA-Z][a-zA-Z0-9]*\",word)):\n",
    "                HashTagsCount[i]+=1\n",
    "    return(HashTagsCount)"
   ]
  },
  {
   "cell_type": "code",
   "execution_count": 5,
   "metadata": {},
   "outputs": [],
   "source": [
    "# NRC-Hashtag-Emotion-Lexicon\n",
    "def Func_NRC_Hashtag_Emotion(GivenTweets):\n",
    "    d_emotion=pd.read_csv(\"./lexicons/5. NRC-Hashtag-Emotion-Lexicon-v0.2.txt\", sep='\\t', names=['emotion','word','score'], header=None)\n",
    "    dic_dEmo={}\n",
    "    for i in range(len(d_emotion['word'])):\n",
    "        if d_emotion['emotion'][i]==\"anger\":\n",
    "            dic_dEmo[d_emotion['word'][i]]=d_emotion['score'][i]\n",
    "    aggEmoHashtags=np.zeros(len(GivenTweets))\n",
    "    for i in range(len(GivenTweets)):\n",
    "        tweet=GivenTweets[i]\n",
    "        hashtags = [j  for j in tweet.split() if j.startswith(\"#\") ]\n",
    "        for tag in hashtags:\n",
    "            word=tag.lower()\n",
    "            if word in dic_dEmo:\n",
    "                aggEmoHashtags[i]+=dic_dEmo[word]\n",
    "            elif word[1:] in dic_dEmo:\n",
    "                aggEmoHashtags[i]+=dic_dEmo[word[1:]]\n",
    "    return(aggEmoHashtags)\n",
    "    \n",
    "    #     Vector aggEmoHashtags conatains Aggregate emotion score (Hashtags)\n",
    "    #     Adding features into dataframe\n"
   ]
  },
  {
   "cell_type": "code",
   "execution_count": 22,
   "metadata": {},
   "outputs": [],
   "source": [
    "# NRC-Hashtag-Emotion-Lexicon\n",
    "def Func_NRC_10_Expanded_Emotion(GivenTweets):\n",
    "    d_emotion=pd.read_csv(\"./lexicons/6. NRC-10-expanded.csv\", sep='\\t')\n",
    "    dic_dEmo={}\n",
    "    for i in range(len(d_emotion['word'])):\n",
    "        dic_dEmo[d_emotion['word'][i]]=d_emotion['anger'][i]\n",
    "    aggScoreEmo=np.zeros(len(GivenTweets))\n",
    "    for i in range(len(GivenTweets)):\n",
    "#         print(i)\n",
    "        tweet=GivenTweets[i]\n",
    "        for word in word_tokenize(tweet):\n",
    "            if word in dic_dEmo:\n",
    "#                 print(word)\n",
    "                aggScoreEmo[i]+=dic_dEmo[word]\n",
    "    return(aggScoreEmo)"
   ]
  },
  {
   "cell_type": "code",
   "execution_count": 7,
   "metadata": {},
   "outputs": [],
   "source": [
    "def Func_NRC_word_emotion_lexicon(GivenTweets):\n",
    "    emotion_count=np.zeros(len(GivenTweets))\n",
    "    emotions_df=pd.read_csv(\"./lexicons/8. NRC-word-emotion-lexicon.txt\", sep='\\t', names=['word','emotion','score'], header=None)\n",
    "    # This set contains words with Emotion X=1 in above dataframe\n",
    "    set_emo=set()\n",
    "    for i in range(len(emotions_df['word'])):\n",
    "        if emotions_df['emotion'][i]==\"anger\" and emotions_df['score'][i]==1:\n",
    "            set_emo.add(emotions_df['word'][i])\n",
    "\n",
    "    for i in range(len(GivenTweets)):\n",
    "        tweet=word_tokenize(GivenTweets[i])\n",
    "        for word in tweet:\n",
    "            word_lower=word.lower()\n",
    "            if word_lower in set_emo:\n",
    "                emotion_count[i]+=1\n",
    "    return(emotion_count)"
   ]
  },
  {
   "cell_type": "markdown",
   "metadata": {},
   "source": [
    "# Preprocess main function"
   ]
  },
  {
   "cell_type": "code",
   "execution_count": 11,
   "metadata": {},
   "outputs": [],
   "source": [
    "def preprocess_text(tweet, flag_stemm=False, flag_lemm=False, stop_words_list=None):\n",
    "    \n",
    "    ## clean (convert to lowercase and remove punctuations and characters and then strip)\n",
    "    tweet = re.sub(r'[^\\w\\s]', '', str(tweet).lower().strip())\n",
    "    ## Tokenize (convert from string to list) and remove the stop words\n",
    "    tokenize_tweet = tweet.split()\n",
    "\n",
    "    if stop_words_list is not None:\n",
    "        tokenize_tweet = [word for word in tokenize_tweet if word not in stop_words_list]\n",
    "\n",
    "\n",
    "    ## Stemming (remove -ing, -ly, ...)\n",
    "    if flag_stemm == True:\n",
    "        ps = nltk.stem.porter.PorterStemmer()\n",
    "        tokenize_tweet = [ps.stem(word) for word in tokenize_tweet]\n",
    "\n",
    "    ## Lemmatisation (convert the word into root word)\n",
    "    if flag_lemm == True:\n",
    "        lem = nltk.stem.wordnet.WordNetLemmatizer()\n",
    "        tokenize_tweet = [lem.lemmatize(word) for word in tokenize_tweet]\n",
    "#     print(tokenize_tweet)\n",
    "    ## back to string from list\n",
    "    tweet = \" \".join(tokenize_tweet)\n",
    "    return tweet"
   ]
  },
  {
   "cell_type": "markdown",
   "metadata": {},
   "source": [
    "# Preprocess caller function"
   ]
  },
  {
   "cell_type": "code",
   "execution_count": 12,
   "metadata": {},
   "outputs": [],
   "source": [
    "def preprocess_text_caller(Tweets_List):\n",
    "    stop_words_list=stopwords.words('english')\n",
    "    for i in (range(len(Tweets_List))):\n",
    "        Tweets_List[i]=preprocess_text(Tweets_List[i])"
   ]
  },
  {
   "cell_type": "code",
   "execution_count": 23,
   "metadata": {},
   "outputs": [],
   "source": [
    "def feature_extraction(Tweets_List):\n",
    "    #Counting the Capital Words\n",
    "    df_feature=pd.DataFrame(FuncAllCapsCount(Tweets_List)).astype('int64')\n",
    "    df_feature.rename(columns={0:\"all_caps_count\"},inplace=True)\n",
    "#     df_feature[\"all_caps_count\"]=df_feature[\"all_caps_count\"].astype('int32')\n",
    "\n",
    "    #Counting The Punctuations\n",
    "    ContPunctuationCount,LastTokenPunctuation=FuncPunctuationsCount(Tweets_List)\n",
    "    df_feature[\"Cont_Punc_Count\"]=pd.DataFrame(ContPunctuationCount).astype('int64')\n",
    "    df_feature[\"Last_Token_Punc\"]=pd.DataFrame(LastTokenPunctuation).astype('int64')\n",
    "    \n",
    "    #Count the hash tags\n",
    "    df_feature[\"HashTag_Count\"]=pd.DataFrame(FuncHashtagsCount(Tweets_List)).astype('int64')\n",
    "    df_feature[\"Anger word count\"]=pd.DataFrame(Func_NRC_word_emotion_lexicon(Tweets_List)).astype('int64')\n",
    "    \n",
    "    \n",
    "    \n",
    "    df_feature[\"NRC_Hashtag\"]=pd.DataFrame(Func_NRC_Hashtag_Emotion(Tweets_List))\n",
    "    \n",
    "    df_feature[\"NRC_10_Expanded\"]=pd.DataFrame(Func_NRC_10_Expanded_Emotion(Tweets_List))\n",
    "\n",
    "    return(df_feature)"
   ]
  },
  {
   "cell_type": "markdown",
   "metadata": {},
   "source": [
    "# Use this for preprocessing"
   ]
  },
  {
   "cell_type": "code",
   "execution_count": 66,
   "metadata": {},
   "outputs": [
    {
     "name": "stderr",
     "output_type": "stream",
     "text": [
      "<ipython-input-12-2b67d72cee89>:4: SettingWithCopyWarning: \n",
      "A value is trying to be set on a copy of a slice from a DataFrame\n",
      "\n",
      "See the caveats in the documentation: https://pandas.pydata.org/pandas-docs/stable/user_guide/indexing.html#returning-a-view-versus-a-copy\n",
      "  Tweets_List[i]=preprocess_text(Tweets_List[i])\n"
     ]
    }
   ],
   "source": [
    "df_training=pd.DataFrame(pd.read_csv(\"olid-training-v1.0.tsv\",sep=\"\\t\"))\n",
    "df_training['tweet_original']=df_training['tweet']\n",
    "preprocess_text_caller(df_training['tweet'])\n",
    "\n",
    "\n",
    "\n",
    "df_testing=pd.DataFrame(pd.read_csv(\"testset-levela.tsv\",sep=\"\\t\"))\n",
    "df_testing['tweet_original']=df_testing['tweet']\n",
    "preprocess_text_caller(df_testing['tweet'])\n"
   ]
  },
  {
   "cell_type": "code",
   "execution_count": 25,
   "metadata": {},
   "outputs": [
    {
     "data": {
      "text/plain": [
       "Index(['all_caps_count', 'Cont_Punc_Count', 'Last_Token_Punc', 'HashTag_Count',\n",
       "       'Anger word count', 'NRC_Hashtag', 'NRC_10_Expanded'],\n",
       "      dtype='object')"
      ]
     },
     "execution_count": 25,
     "metadata": {},
     "output_type": "execute_result"
    }
   ],
   "source": [
    "a.columns"
   ]
  },
  {
   "cell_type": "markdown",
   "metadata": {},
   "source": [
    "# use the below statement to extract features"
   ]
  },
  {
   "cell_type": "code",
   "execution_count": 67,
   "metadata": {},
   "outputs": [
    {
     "name": "stderr",
     "output_type": "stream",
     "text": [
      "100%|██████████| 13240/13240 [00:03<00:00, 3432.99it/s]\n",
      "100%|██████████| 13240/13240 [00:03<00:00, 3589.38it/s]\n",
      "100%|██████████| 13240/13240 [00:00<00:00, 46774.48it/s]\n",
      "100%|██████████| 860/860 [00:00<00:00, 3196.93it/s]\n",
      "100%|██████████| 860/860 [00:00<00:00, 3200.89it/s]\n",
      "100%|██████████| 860/860 [00:00<00:00, 36670.58it/s]\n"
     ]
    }
   ],
   "source": [
    "train_feature=feature_extraction(df_training['tweet_original'])\n",
    "test_feature=feature_extraction(df_testing['tweet_original'])\n"
   ]
  },
  {
   "cell_type": "code",
   "execution_count": 230,
   "metadata": {},
   "outputs": [
    {
     "data": {
      "text/plain": [
       "Index(['id', 'tweet', 'subtask_a', 'subtask_b', 'subtask_c', 'tweet_original'], dtype='object')"
      ]
     },
     "execution_count": 230,
     "metadata": {},
     "output_type": "execute_result"
    }
   ],
   "source": [
    "# count=0\n",
    "# for i in df_training['tweet_original'][0:100]:\n",
    "#     print(count,i)\n",
    "#     count+=1\n",
    "df_training.columns"
   ]
  },
  {
   "cell_type": "code",
   "execution_count": 68,
   "metadata": {},
   "outputs": [],
   "source": [
    "# tweets_train=df_training['tweet_original'][0:100]"
   ]
  },
  {
   "cell_type": "code",
   "execution_count": 69,
   "metadata": {},
   "outputs": [],
   "source": [
    "# from sklearn.model_selection import train_test_split\n",
    "# X_train, X_test, y_train, y_test = train_test_split(a, df_training[\"subtask_a\"], test_size=0.33, random_state=42,shuffle=True)"
   ]
  },
  {
   "cell_type": "code",
   "execution_count": 70,
   "metadata": {},
   "outputs": [],
   "source": [
    "# from sklearn.ensemble import RandomForestClassifier\n",
    "# clf = RandomForestClassifier(max_depth=2, random_state=0)\n",
    "# clf.fit(X_train, y_train)\n",
    "# y_pred=clf.predict(X_test)\n"
   ]
  },
  {
   "cell_type": "code",
   "execution_count": 71,
   "metadata": {},
   "outputs": [],
   "source": [
    "# from sklearn.metrics import *"
   ]
  },
  {
   "cell_type": "code",
   "execution_count": 72,
   "metadata": {},
   "outputs": [],
   "source": [
    "# accuracy_score(y_test,y_pred)"
   ]
  },
  {
   "cell_type": "code",
   "execution_count": 73,
   "metadata": {},
   "outputs": [],
   "source": [
    "# f1_score(y_test,y_pred,average='macro')"
   ]
  },
  {
   "cell_type": "code",
   "execution_count": 76,
   "metadata": {},
   "outputs": [],
   "source": [
    "# from sklearn.model_selection import cross_val_score\n",
    "# clf = RandomForestClassifier( random_state=0)\n",
    "# scores = cross_val_score(clf, a, df_training[\"subtask_a\"], cv=5,scoring='f1_macro')\n",
    "# scores"
   ]
  },
  {
   "cell_type": "code",
   "execution_count": 78,
   "metadata": {},
   "outputs": [],
   "source": [
    "# scores.mean()"
   ]
  },
  {
   "cell_type": "code",
   "execution_count": 79,
   "metadata": {},
   "outputs": [],
   "source": [
    "from sklearn.feature_extraction.text import CountVectorizer\n",
    "# ngram_range parameter (1,2) means that unigram and bigram will be taken\n",
    "# Count Vecotrizer automatically preprocess the tweets\n",
    "vectorizer = CountVectorizer(ngram_range=(1,4),min_df=5)"
   ]
  },
  {
   "cell_type": "code",
   "execution_count": 80,
   "metadata": {},
   "outputs": [],
   "source": [
    "# fit was used to learn the vocabulary\n",
    "TempVector=vectorizer.fit(df_training.tweet)"
   ]
  },
  {
   "cell_type": "code",
   "execution_count": 81,
   "metadata": {},
   "outputs": [
    {
     "data": {
      "text/plain": [
       "12702"
      ]
     },
     "execution_count": 81,
     "metadata": {},
     "output_type": "execute_result"
    }
   ],
   "source": [
    "# Getting the vocabulary for ngrams\n",
    "Vocab_ngrams=TempVector.get_feature_names()\n",
    "len(Vocab_ngrams)"
   ]
  },
  {
   "cell_type": "code",
   "execution_count": 82,
   "metadata": {},
   "outputs": [],
   "source": [
    "Vocab={}\n",
    "for i in range(len(Vocab_ngrams)):\n",
    "    Vocab[i]=Vocab_ngrams[i]"
   ]
  },
  {
   "cell_type": "code",
   "execution_count": 61,
   "metadata": {},
   "outputs": [],
   "source": [
    "import pickle\n",
    "file=open(\"Dictionay_ngram_features_50k\",'wb')\n",
    "pickle.dump(Vocab,file)\n",
    "file.close()"
   ]
  },
  {
   "cell_type": "code",
   "execution_count": 84,
   "metadata": {},
   "outputs": [],
   "source": [
    "# Now we can use this vocabulary to individually create ngrams for train and test set\n",
    "# fit transform is used here as we want the counts too\n",
    "vectorizer2 = CountVectorizer(ngram_range=(1,4), vocabulary=Vocab_ngrams)\n",
    "Train_ngrams=vectorizer2.fit_transform(df_training.tweet)\n",
    "Test_ngrams=vectorizer2.fit_transform(df_testing.tweet)"
   ]
  },
  {
   "cell_type": "code",
   "execution_count": 87,
   "metadata": {},
   "outputs": [],
   "source": [
    "from scipy.sparse import csr_matrix, hstack\n",
    "csr_TrainFeature_without_ngram=csr_matrix(train_feature)\n",
    "csr_TestFeature_without_ngram=csr_matrix(test_feature)\n",
    "TrainFeatureFinal=hstack([Train_ngrams,csr_TrainFeature_without_ngram])\n",
    "TestFeatureFinal=hstack([Test_ngrams,csr_TestFeature_without_ngram])"
   ]
  },
  {
   "cell_type": "code",
   "execution_count": 88,
   "metadata": {},
   "outputs": [
    {
     "data": {
      "text/plain": [
       "<13240x12709 sparse matrix of type '<class 'numpy.float64'>'\n",
       "\twith 373476 stored elements in COOrdinate format>"
      ]
     },
     "execution_count": 88,
     "metadata": {},
     "output_type": "execute_result"
    }
   ],
   "source": [
    "TrainFeatureFinal"
   ]
  },
  {
   "cell_type": "code",
   "execution_count": 49,
   "metadata": {},
   "outputs": [
    {
     "data": {
      "text/plain": [
       "array([0.40036232, 0.40036232, 0.40036232, 0.40036232, 0.40036232])"
      ]
     },
     "execution_count": 49,
     "metadata": {},
     "output_type": "execute_result"
    }
   ],
   "source": [
    "from sklearn.model_selection import cross_val_score\n",
    "clf = RandomForestClassifier(max_depth=2, random_state=0)\n",
    "scores = cross_val_score(clf, TrainFeatureFinal, df_training[\"subtask_a\"], cv=5,scoring='f1_macro')\n",
    "scores"
   ]
  },
  {
   "cell_type": "code",
   "execution_count": 65,
   "metadata": {},
   "outputs": [
    {
     "data": {
      "text/plain": [
       "array([0.66386704, 0.66293941, 0.68093138, 0.66013394, 0.66481861])"
      ]
     },
     "execution_count": 65,
     "metadata": {},
     "output_type": "execute_result"
    }
   ],
   "source": []
  },
  {
   "cell_type": "code",
   "execution_count": null,
   "metadata": {},
   "outputs": [],
   "source": [
    "# clf2 = MLPClassifier(max_iter=300)\n"
   ]
  },
  {
   "cell_type": "code",
   "execution_count": null,
   "metadata": {},
   "outputs": [],
   "source": []
  },
  {
   "cell_type": "code",
   "execution_count": 97,
   "metadata": {},
   "outputs": [],
   "source": [
    "from sklearn.neural_network import MLPClassifier\n",
    "clf2 = RandomForestClassifier( random_state=0)\n",
    "clf.fit(TrainFeatureFinal,df_training[\"subtask_a\"])\n",
    "y_pred=clf.predict(TestFeatureFinal)"
   ]
  },
  {
   "cell_type": "code",
   "execution_count": null,
   "metadata": {},
   "outputs": [],
   "source": []
  },
  {
   "cell_type": "code",
   "execution_count": 112,
   "metadata": {},
   "outputs": [
    {
     "data": {
      "text/plain": [
       "0.6582738945931053"
      ]
     },
     "execution_count": 112,
     "metadata": {},
     "output_type": "execute_result"
    }
   ],
   "source": [
    "y_actual=pd.DataFrame(pd.read_csv(\"labels-levela.csv\",header=None))\n",
    "f1_score(y_actual[1],y_pred,average='macro')"
   ]
  },
  {
   "cell_type": "code",
   "execution_count": null,
   "metadata": {},
   "outputs": [],
   "source": []
  },
  {
   "cell_type": "code",
   "execution_count": null,
   "metadata": {},
   "outputs": [],
   "source": []
  }
 ],
 "metadata": {
  "kernelspec": {
   "display_name": "Python 3",
   "language": "python",
   "name": "python3"
  },
  "language_info": {
   "codemirror_mode": {
    "name": "ipython",
    "version": 3
   },
   "file_extension": ".py",
   "mimetype": "text/x-python",
   "name": "python",
   "nbconvert_exporter": "python",
   "pygments_lexer": "ipython3",
   "version": "3.8.5"
  }
 },
 "nbformat": 4,
 "nbformat_minor": 4
}
