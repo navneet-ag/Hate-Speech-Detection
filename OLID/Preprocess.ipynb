{
 "cells": [
  {
   "cell_type": "code",
   "execution_count": 15,
   "metadata": {},
   "outputs": [],
   "source": [
    "import pandas as pd\n",
    "import nltk\n",
    "import string\n",
    "import re\n",
    "import numpy as np\n",
    "from tqdm import tqdm\n",
    "import pandas as pd\n",
    "from nltk.stem import WordNetLemmatizer \n",
    "from nltk.tokenize import word_tokenize\n",
    "import preprocessor as p\n",
    "from nltk.corpus import stopwords\n",
    "from tqdm import tqdm"
   ]
  },
  {
   "cell_type": "code",
   "execution_count": 192,
   "metadata": {},
   "outputs": [],
   "source": [
    "# Function to get All caps count from the tweets\n",
    "# pass tweets as it is\n",
    "def FuncAllCapsCount(GivenTweets):\n",
    "    AllCapsCount=np.zeros(len(GivenTweets))\n",
    "    for i in tqdm(range(len(GivenTweets))):\n",
    "        tweet=nltk.word_tokenize(GivenTweets[i])\n",
    "        for word in tweet:\n",
    "            if(word!=\"I\" and word!=\"USER\" and re.match(\"^[A-Z]+$\",word)):\n",
    "                AllCapsCount[i]+=1\n",
    "    return(AllCapsCount)"
   ]
  },
  {
   "cell_type": "code",
   "execution_count": 131,
   "metadata": {},
   "outputs": [],
   "source": [
    "# Function to get COntinuous Punctuation (???,??!,!!) Count and check if last token was a ? or !\n",
    "# pass tweets as it is\n",
    "def FuncPunctuationsCount(GivenTweets):\n",
    "    ContPunctuationCount=np.zeros(len(GivenTweets))\n",
    "    LastTokenPunctuation=np.zeros(len(GivenTweets))\n",
    "    for i in tqdm(range(len(GivenTweets))):\n",
    "        tweet=nltk.word_tokenize(GivenTweets[i])\n",
    "        token=0\n",
    "        while token<len(tweet):\n",
    "            if(tweet[token]==\"?\" or tweet[token]==\"!\"):\n",
    "                index=token+1\n",
    "                while(index< len(tweet) and (tweet[index]==\"?\" or tweet[index]==\"!\")):\n",
    "                    index+=1\n",
    "                if(index-token>1):\n",
    "                    ContPunctuationCount[i]+=1\n",
    "                    token=index\n",
    "            token+=1\n",
    "        if(tweet[len(tweet)-1]==\"?\" or tweet[len(tweet)-1]==\"!\"):\n",
    "            LastTokenPunctuation[i]+=1\n",
    "    \n",
    "    return(ContPunctuationCount,LastTokenPunctuation)"
   ]
  },
  {
   "cell_type": "code",
   "execution_count": 179,
   "metadata": {},
   "outputs": [],
   "source": [
    "# Fucntion to get HashTag count from the tweets\n",
    "# pass tweets as it is\n",
    "def FuncHashtagsCount(GivenTweets):    \n",
    "    HashTagsCount=np.zeros(len(GivenTweets))\n",
    "    for i in tqdm(range(len(GivenTweets))):\n",
    "        tweet=GivenTweets[i].split(\" \")\n",
    "        for word in tweet:\n",
    "            if(re.match(\"^#[a-zA-Z][a-zA-Z0-9]*\",word)):\n",
    "                HashTagsCount[i]+=1\n",
    "    return(HashTagsCount)"
   ]
  },
  {
   "cell_type": "code",
   "execution_count": 198,
   "metadata": {},
   "outputs": [],
   "source": [
    "# NRC-Hashtag-Emotion-Lexicon\n",
    "def Func_NRC_Hashtag_Emotion(GivenTweets):\n",
    "    d_emotion=pd.read_csv(\"./lexicons/5. NRC-Hashtag-Emotion-Lexicon-v0.2.txt\", sep='\\t', names=['emotion','word','score'], header=None)\n",
    "    dic_dEmo={}\n",
    "    for i in range(len(d_emotion['word'])):\n",
    "        if d_emotion['emotion'][i]==\"anger\":\n",
    "            dic_dEmo[d_emotion['word'][i]]=d_emotion['score'][i]\n",
    "    aggEmoHashtags=np.zeros(len(GivenTweets))\n",
    "    for i in range(len(GivenTweets)):\n",
    "        tweet=GivenTweets[i]\n",
    "        hashtags = [j  for j in tweet.split() if j.startswith(\"#\") ]\n",
    "        for tag in hashtags:\n",
    "            word=tag.lower()\n",
    "            if word in dic_dEmo:\n",
    "                aggEmoHashtags[i]+=dic_dEmo[word]\n",
    "            elif word[1:] in dic_dEmo:\n",
    "                aggEmoHashtags[i]+=dic_dEmo[word[1:]]\n",
    "    return(aggEmoHashtags)\n",
    "    \n",
    "    #     Vector aggEmoHashtags conatains Aggregate emotion score (Hashtags)\n",
    "    #     Adding features into dataframe\n"
   ]
  },
  {
   "cell_type": "code",
   "execution_count": 214,
   "metadata": {},
   "outputs": [],
   "source": [
    "# NRC-Hashtag-Emotion-Lexicon\n",
    "def Func_NRC_10_Expanded_Emotion(GivenTweets):\n",
    "    d_emotion=pd.read_csv(\"./lexicons/6. NRC-10-expanded.csv\", sep='\\t')\n",
    "    dic_dEmo={}\n",
    "    for i in range(len(d_emotion['word'])):\n",
    "        dic_dEmo[d_emotion['word'][i]]=d_emotion['anger'][i]\n",
    "    aggScoreEmo=np.zeros(len(GivenTweets))\n",
    "    for i in range(len(GivenTweets)):\n",
    "#         print(i)\n",
    "        tweet=tweets_train[i]\n",
    "        for word in word_tokenize(tweet):\n",
    "            if word in dic_dEmo:\n",
    "#                 print(word)\n",
    "                aggScoreEmo[i]+=dic_dEmo[word]\n",
    "    return(aggScoreEmo)"
   ]
  },
  {
   "cell_type": "code",
   "execution_count": 225,
   "metadata": {},
   "outputs": [],
   "source": [
    "def Func_NRC_word_emotion_lexicon(GivenTweets):\n",
    "    emotion_count=np.zeros(len(tweets_train))\n",
    "    emotions_df=pd.read_csv(\"./lexicons/8. NRC-word-emotion-lexicon.txt\", sep='\\t', names=['word','emotion','score'], header=None)\n",
    "    # This set contains words with Emotion X=1 in above dataframe\n",
    "    set_emo=set()\n",
    "    for i in range(len(emotions_df['word'])):\n",
    "        if emotions_df['emotion'][i]==\"anger\" and emotions_df['score'][i]==1:\n",
    "            set_emo.add(emotions_df['word'][i])\n",
    "\n",
    "    for i in range(len(tweets_train)):\n",
    "        tweet=word_tokenize(tweets_train[i])\n",
    "        for word in tweet:\n",
    "            word_lower=word.lower()\n",
    "            if word_lower in set_emo:\n",
    "                emotion_count[i]+=1\n",
    "    return(emotion_count)"
   ]
  },
  {
   "cell_type": "markdown",
   "metadata": {},
   "source": [
    "# Preprocess main function"
   ]
  },
  {
   "cell_type": "code",
   "execution_count": 151,
   "metadata": {},
   "outputs": [],
   "source": [
    "def preprocess_text(tweet, flag_stemm=False, flag_lemm=False, stop_words_list=None):\n",
    "    \n",
    "    ## clean (convert to lowercase and remove punctuations and characters and then strip)\n",
    "    tweet = re.sub(r'[^\\w\\s]', '', str(tweet).lower().strip())\n",
    "    ## Tokenize (convert from string to list) and remove the stop words\n",
    "    tokenize_tweet = tweet.split()\n",
    "\n",
    "    if stop_words_list is not None:\n",
    "        tokenize_tweet = [word for word in tokenize_tweet if word not in stop_words_list]\n",
    "\n",
    "\n",
    "    ## Stemming (remove -ing, -ly, ...)\n",
    "    if flag_stemm == True:\n",
    "        ps = nltk.stem.porter.PorterStemmer()\n",
    "        tokenize_tweet = [ps.stem(word) for word in tokenize_tweet]\n",
    "\n",
    "    ## Lemmatisation (convert the word into root word)\n",
    "    if flag_lemm == True:\n",
    "        lem = nltk.stem.wordnet.WordNetLemmatizer()\n",
    "        tokenize_tweet = [lem.lemmatize(word) for word in tokenize_tweet]\n",
    "#     print(tokenize_tweet)\n",
    "    ## back to string from list\n",
    "    tweet = \" \".join(tokenize_tweet)\n",
    "    return tweet"
   ]
  },
  {
   "cell_type": "markdown",
   "metadata": {},
   "source": [
    "# Preprocess caller function"
   ]
  },
  {
   "cell_type": "code",
   "execution_count": 103,
   "metadata": {},
   "outputs": [],
   "source": [
    "def preprocess_text_caller(Tweets_List):\n",
    "    stop_words_list=stopwords.words('english')\n",
    "    for i in (range(len(Tweets_List))):\n",
    "        Tweets_List[i]=preprocess_text(Tweets_List[i])"
   ]
  },
  {
   "cell_type": "code",
   "execution_count": 222,
   "metadata": {},
   "outputs": [],
   "source": [
    "def feature_extraction(Tweets_List):\n",
    "    #Counting the Capital Words\n",
    "    df_feature=pd.DataFrame(FuncAllCapsCount(Tweets_List))\n",
    "    df_feature.rename(columns={0:\"all_caps_count\"},inplace=True)\n",
    "#     df_feature[\"all_caps_count\"]=df_feature[\"all_caps_count\"].astype('int32')\n",
    "\n",
    "    #Counting The Punctuations\n",
    "    ContPunctuationCount,LastTokenPunctuation=FuncPunctuationsCount(Tweets_List)\n",
    "    df_feature[\"Cont_Punc_Count\"]=pd.DataFrame(ContPunctuationCount)\n",
    "    df_feature[\"Last_Token_Punc\"]=pd.DataFrame(LastTokenPunctuation)\n",
    "    \n",
    "    #Count the hash tags\n",
    "    df_feature[\"HashTag_Count\"]=pd.DataFrame(FuncHashtagsCount(Tweets_List))\n",
    "    df_feature[\"Anger word count\"]=pd.DataFrame(Func_NRC_word_emotion_lexicon(Tweets_List))\n",
    "    \n",
    "    df_feature=df_feature.astype('int32')\n",
    "    #Add integer features before this\n",
    "    \n",
    "    \n",
    "    df_feature[\"NRC_Hashtag\"]=pd.DataFrame(Func_NRC_Hashtag_Emotion(Tweets_List))\n",
    "    \n",
    "    df_feature[\"NRC_10_Expanded\"]=pd.DataFrame(Func_NRC_10_Expanded_Emotion(Tweets_List))\n",
    "\n",
    "    return(df_feature)"
   ]
  },
  {
   "cell_type": "markdown",
   "metadata": {},
   "source": [
    "# Use this for preprocessing"
   ]
  },
  {
   "cell_type": "code",
   "execution_count": 105,
   "metadata": {},
   "outputs": [
    {
     "name": "stderr",
     "output_type": "stream",
     "text": [
      "<ipython-input-103-2b67d72cee89>:4: SettingWithCopyWarning: \n",
      "A value is trying to be set on a copy of a slice from a DataFrame\n",
      "\n",
      "See the caveats in the documentation: https://pandas.pydata.org/pandas-docs/stable/user_guide/indexing.html#returning-a-view-versus-a-copy\n",
      "  Tweets_List[i]=preprocess_text(Tweets_List[i])\n"
     ]
    }
   ],
   "source": [
    "df_training=pd.DataFrame(pd.read_csv(\"olid-training-v1.0.tsv\",sep=\"\\t\"))\n",
    "df_training['tweet_original']=df_training['tweet']\n",
    "preprocess_text_caller(df_training['tweet'])"
   ]
  },
  {
   "cell_type": "code",
   "execution_count": 229,
   "metadata": {},
   "outputs": [
    {
     "data": {
      "text/html": [
       "<div>\n",
       "<style scoped>\n",
       "    .dataframe tbody tr th:only-of-type {\n",
       "        vertical-align: middle;\n",
       "    }\n",
       "\n",
       "    .dataframe tbody tr th {\n",
       "        vertical-align: top;\n",
       "    }\n",
       "\n",
       "    .dataframe thead th {\n",
       "        text-align: right;\n",
       "    }\n",
       "</style>\n",
       "<table border=\"1\" class=\"dataframe\">\n",
       "  <thead>\n",
       "    <tr style=\"text-align: right;\">\n",
       "      <th></th>\n",
       "      <th>all_caps_count</th>\n",
       "      <th>Cont_Punc_Count</th>\n",
       "      <th>Last_Token_Punc</th>\n",
       "      <th>HashTag_Count</th>\n",
       "      <th>Anger word count</th>\n",
       "      <th>NRC_Hashtag</th>\n",
       "      <th>NRC_10_Expanded</th>\n",
       "    </tr>\n",
       "  </thead>\n",
       "  <tbody>\n",
       "    <tr>\n",
       "      <th>0</th>\n",
       "      <td>0</td>\n",
       "      <td>0</td>\n",
       "      <td>0</td>\n",
       "      <td>0</td>\n",
       "      <td>0</td>\n",
       "      <td>0.000000</td>\n",
       "      <td>0.735859</td>\n",
       "    </tr>\n",
       "    <tr>\n",
       "      <th>1</th>\n",
       "      <td>2</td>\n",
       "      <td>1</td>\n",
       "      <td>0</td>\n",
       "      <td>2</td>\n",
       "      <td>0</td>\n",
       "      <td>0.000000</td>\n",
       "      <td>0.335047</td>\n",
       "    </tr>\n",
       "    <tr>\n",
       "      <th>2</th>\n",
       "      <td>5</td>\n",
       "      <td>0</td>\n",
       "      <td>0</td>\n",
       "      <td>5</td>\n",
       "      <td>0</td>\n",
       "      <td>0.368004</td>\n",
       "      <td>0.796653</td>\n",
       "    </tr>\n",
       "    <tr>\n",
       "      <th>3</th>\n",
       "      <td>0</td>\n",
       "      <td>0</td>\n",
       "      <td>0</td>\n",
       "      <td>0</td>\n",
       "      <td>1</td>\n",
       "      <td>0.000000</td>\n",
       "      <td>0.269213</td>\n",
       "    </tr>\n",
       "    <tr>\n",
       "      <th>4</th>\n",
       "      <td>0</td>\n",
       "      <td>0</td>\n",
       "      <td>0</td>\n",
       "      <td>0</td>\n",
       "      <td>0</td>\n",
       "      <td>0.000000</td>\n",
       "      <td>0.478728</td>\n",
       "    </tr>\n",
       "    <tr>\n",
       "      <th>...</th>\n",
       "      <td>...</td>\n",
       "      <td>...</td>\n",
       "      <td>...</td>\n",
       "      <td>...</td>\n",
       "      <td>...</td>\n",
       "      <td>...</td>\n",
       "      <td>...</td>\n",
       "    </tr>\n",
       "    <tr>\n",
       "      <th>95</th>\n",
       "      <td>0</td>\n",
       "      <td>0</td>\n",
       "      <td>0</td>\n",
       "      <td>0</td>\n",
       "      <td>0</td>\n",
       "      <td>0.000000</td>\n",
       "      <td>2.963152</td>\n",
       "    </tr>\n",
       "    <tr>\n",
       "      <th>96</th>\n",
       "      <td>0</td>\n",
       "      <td>0</td>\n",
       "      <td>1</td>\n",
       "      <td>0</td>\n",
       "      <td>0</td>\n",
       "      <td>0.000000</td>\n",
       "      <td>0.942392</td>\n",
       "    </tr>\n",
       "    <tr>\n",
       "      <th>97</th>\n",
       "      <td>0</td>\n",
       "      <td>0</td>\n",
       "      <td>0</td>\n",
       "      <td>0</td>\n",
       "      <td>0</td>\n",
       "      <td>0.000000</td>\n",
       "      <td>0.402854</td>\n",
       "    </tr>\n",
       "    <tr>\n",
       "      <th>98</th>\n",
       "      <td>1</td>\n",
       "      <td>0</td>\n",
       "      <td>0</td>\n",
       "      <td>0</td>\n",
       "      <td>0</td>\n",
       "      <td>0.000000</td>\n",
       "      <td>0.164888</td>\n",
       "    </tr>\n",
       "    <tr>\n",
       "      <th>99</th>\n",
       "      <td>0</td>\n",
       "      <td>0</td>\n",
       "      <td>0</td>\n",
       "      <td>0</td>\n",
       "      <td>0</td>\n",
       "      <td>0.000000</td>\n",
       "      <td>0.107209</td>\n",
       "    </tr>\n",
       "  </tbody>\n",
       "</table>\n",
       "<p>100 rows × 7 columns</p>\n",
       "</div>"
      ],
      "text/plain": [
       "    all_caps_count  Cont_Punc_Count  Last_Token_Punc  HashTag_Count  \\\n",
       "0                0                0                0              0   \n",
       "1                2                1                0              2   \n",
       "2                5                0                0              5   \n",
       "3                0                0                0              0   \n",
       "4                0                0                0              0   \n",
       "..             ...              ...              ...            ...   \n",
       "95               0                0                0              0   \n",
       "96               0                0                1              0   \n",
       "97               0                0                0              0   \n",
       "98               1                0                0              0   \n",
       "99               0                0                0              0   \n",
       "\n",
       "    Anger word count  NRC_Hashtag  NRC_10_Expanded  \n",
       "0                  0     0.000000         0.735859  \n",
       "1                  0     0.000000         0.335047  \n",
       "2                  0     0.368004         0.796653  \n",
       "3                  1     0.000000         0.269213  \n",
       "4                  0     0.000000         0.478728  \n",
       "..               ...          ...              ...  \n",
       "95                 0     0.000000         2.963152  \n",
       "96                 0     0.000000         0.942392  \n",
       "97                 0     0.000000         0.402854  \n",
       "98                 0     0.000000         0.164888  \n",
       "99                 0     0.000000         0.107209  \n",
       "\n",
       "[100 rows x 7 columns]"
      ]
     },
     "execution_count": 229,
     "metadata": {},
     "output_type": "execute_result"
    }
   ],
   "source": [
    "a"
   ]
  },
  {
   "cell_type": "code",
   "execution_count": 226,
   "metadata": {},
   "outputs": [
    {
     "name": "stderr",
     "output_type": "stream",
     "text": [
      "100%|██████████| 100/100 [00:00<00:00, 1353.49it/s]\n",
      "100%|██████████| 100/100 [00:00<00:00, 1981.07it/s]\n",
      "100%|██████████| 100/100 [00:00<00:00, 22948.54it/s]\n"
     ]
    }
   ],
   "source": [
    "a=feature_extraction(df_training['tweet_original'][0:100])"
   ]
  },
  {
   "cell_type": "code",
   "execution_count": 196,
   "metadata": {},
   "outputs": [],
   "source": [
    "# count=0\n",
    "# for i in df_training['tweet_original'][0:100]:\n",
    "#     print(count,i)\n",
    "#     count+=1"
   ]
  },
  {
   "cell_type": "code",
   "execution_count": 219,
   "metadata": {},
   "outputs": [],
   "source": [
    "tweets_train=df_training['tweet_original'][0:100]"
   ]
  }
 ],
 "metadata": {
  "kernelspec": {
   "display_name": "Python 3",
   "language": "python",
   "name": "python3"
  },
  "language_info": {
   "codemirror_mode": {
    "name": "ipython",
    "version": 3
   },
   "file_extension": ".py",
   "mimetype": "text/x-python",
   "name": "python",
   "nbconvert_exporter": "python",
   "pygments_lexer": "ipython3",
   "version": "3.8.5"
  }
 },
 "nbformat": 4,
 "nbformat_minor": 4
}
