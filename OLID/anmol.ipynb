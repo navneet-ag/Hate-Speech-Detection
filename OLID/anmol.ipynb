{
 "cells": [
  {
   "cell_type": "code",
   "execution_count": 1,
   "metadata": {},
   "outputs": [],
   "source": [
    "import pandas as pd\n",
    "import nltk\n",
    "import string\n",
    "import re\n",
    "import numpy as np\n",
    "from tqdm import tqdm\n",
    "import pandas as pd\n",
    "from tqdm import tqdm\n",
    "import pickle\n",
    "import emoji\n",
    "\n",
    "from nltk.stem import WordNetLemmatizer \n",
    "from nltk.tokenize import word_tokenize\n",
    "from nltk.corpus import stopwords\n",
    "\n",
    "from scipy.sparse import csr_matrix\n",
    "\n",
    "from sklearn.linear_model import LogisticRegression\n",
    "from sklearn.ensemble import RandomForestClassifier\n",
    "from sklearn.metrics import f1_score, accuracy_score\n",
    "from sklearn.feature_extraction.text import CountVectorizer, TfidfVectorizer\n",
    "from sklearn.svm import SVC\n",
    "from sklearn.pipeline import make_pipeline\n",
    "from sklearn.preprocessing import StandardScaler\n",
    "from sklearn.ensemble import BaggingClassifier\n",
    "from sklearn.model_selection import GridSearchCV\n",
    "from sklearn.naive_bayes import GaussianNB\n",
    "from sklearn.decomposition import PCA\n",
    "\n",
    "from vaderSentiment.vaderSentiment import SentimentIntensityAnalyzer\n",
    "from textstat import flesch_reading_ease, flesch_kincaid_grade\n",
    "\n",
    "from myclasses.Features import Features\n",
    "from myclasses.Data import Data"
   ]
  },
  {
   "cell_type": "code",
   "execution_count": 2,
   "metadata": {},
   "outputs": [],
   "source": [
    "def save_model(model, name, subtask):\n",
    "    with open(f\"./models/subtask{subtask}/{name}\", \"wb\") as fp:\n",
    "        pickle.dump(model, fp)\n",
    "        \n",
    "def load_model(name):\n",
    "    with open(f\"./models/subtask{subtask}/{name}\", \"rb\") as fp:\n",
    "        clf = pickle.load(fp)\n",
    "        \n",
    "    return clf\n",
    "\n",
    "# def save_obj(obj, path):\n",
    "#     with open(path, \"wb\") as fp:\n",
    "#         pickle.dump(obj, fp)"
   ]
  },
  {
   "cell_type": "code",
   "execution_count": 3,
   "metadata": {},
   "outputs": [],
   "source": [
    "# \"\"\" Save after running subtask\"\"\"\n",
    "\n",
    "# with open(f\"./models/dataobj\", \"wb\") as fp:\n",
    "#     pickle.dump(d, fp)"
   ]
  },
  {
   "cell_type": "markdown",
   "metadata": {},
   "source": [
    "# Subtask A"
   ]
  },
  {
   "cell_type": "code",
   "execution_count": 4,
   "metadata": {},
   "outputs": [],
   "source": [
    "d = Data()"
   ]
  },
  {
   "cell_type": "code",
   "execution_count": 5,
   "metadata": {
    "scrolled": false
   },
   "outputs": [
    {
     "name": "stderr",
     "output_type": "stream",
     "text": [
      "100%|██████████| 13240/13240 [00:11<00:00, 1110.56it/s]\n",
      "100%|██████████| 13240/13240 [00:07<00:00, 1831.74it/s]\n",
      "100%|██████████| 13240/13240 [00:00<00:00, 20043.94it/s]\n",
      "100%|██████████| 860/860 [00:00<00:00, 1299.26it/s]\n",
      "100%|██████████| 860/860 [00:00<00:00, 1834.75it/s]\n",
      "100%|██████████| 860/860 [00:00<00:00, 16786.74it/s]\n"
     ]
    }
   ],
   "source": [
    "X_tr, X_te, y_tr, y_te = d.read(subtask=\"a\")"
   ]
  },
  {
   "cell_type": "code",
   "execution_count": 6,
   "metadata": {
    "scrolled": true
   },
   "outputs": [
    {
     "data": {
      "text/plain": [
       "(13240, 13156)"
      ]
     },
     "execution_count": 6,
     "metadata": {},
     "output_type": "execute_result"
    }
   ],
   "source": [
    "X_tr.shape"
   ]
  },
  {
   "cell_type": "code",
   "execution_count": 7,
   "metadata": {},
   "outputs": [],
   "source": [
    "save_model(d, \"data_obj\", subtask=\"a\")"
   ]
  },
  {
   "cell_type": "code",
   "execution_count": 8,
   "metadata": {},
   "outputs": [],
   "source": [
    "X_tr = csr_matrix(X_tr)\n",
    "X_te = csr_matrix(X_te)"
   ]
  },
  {
   "cell_type": "code",
   "execution_count": 9,
   "metadata": {},
   "outputs": [],
   "source": [
    "save_model(X_te, \"testX\", subtask=\"a\")\n",
    "save_model(y_te, \"testY\", subtask=\"a\")"
   ]
  },
  {
   "cell_type": "code",
   "execution_count": 10,
   "metadata": {},
   "outputs": [
    {
     "data": {
      "text/plain": [
       "0.7635732850292878"
      ]
     },
     "execution_count": 10,
     "metadata": {},
     "output_type": "execute_result"
    }
   ],
   "source": [
    "\"\"\" Logistic Regression \"\"\"\n",
    "\n",
    "log = LogisticRegression(max_iter=3000, class_weight=\"balanced\")\n",
    "log.fit(X_tr, y_tr)\n",
    "y_pred = log.predict(X_te)\n",
    "f1_score(y_te, y_pred, average=\"macro\")"
   ]
  },
  {
   "cell_type": "code",
   "execution_count": 11,
   "metadata": {},
   "outputs": [],
   "source": [
    "save_model(log, \"log\", subtask=\"a\")"
   ]
  },
  {
   "cell_type": "code",
   "execution_count": 63,
   "metadata": {
    "scrolled": false
   },
   "outputs": [
    {
     "data": {
      "text/plain": [
       "0.6887930455741511"
      ]
     },
     "execution_count": 63,
     "metadata": {},
     "output_type": "execute_result"
    }
   ],
   "source": [
    "\"\"\" SVM \"\"\"\n",
    "\n",
    "svm = SVC(kernel=\"linear\", class_weight=\"balanced\")\n",
    "svm.fit(X_tr, y_tr)\n",
    "y_pred = svm.predict(X_te)\n",
    "f1_score(y_te, y_pred, average=\"macro\")"
   ]
  },
  {
   "cell_type": "code",
   "execution_count": 12,
   "metadata": {},
   "outputs": [],
   "source": [
    "save_model(svm, \"svm\", subtask=\"a\")"
   ]
  },
  {
   "cell_type": "code",
   "execution_count": 22,
   "metadata": {
    "scrolled": true
   },
   "outputs": [
    {
     "data": {
      "text/plain": [
       "0.7106758373205742"
      ]
     },
     "execution_count": 22,
     "metadata": {},
     "output_type": "execute_result"
    }
   ],
   "source": [
    "\"\"\" Random Forest \"\"\"\n",
    "\n",
    "rf = RandomForestClassifier(random_state=0)\n",
    "rf.fit(X_tr, y_tr)\n",
    "y_pred = rf.predict(X_te)\n",
    "f1_score(y_te, y_pred, average=\"macro\")"
   ]
  },
  {
   "cell_type": "code",
   "execution_count": null,
   "metadata": {},
   "outputs": [],
   "source": [
    "save_model(rf, \"rf\", subtask=\"a\")"
   ]
  },
  {
   "cell_type": "code",
   "execution_count": 68,
   "metadata": {
    "scrolled": false
   },
   "outputs": [
    {
     "data": {
      "text/plain": [
       "0.5963947163947163"
      ]
     },
     "execution_count": 68,
     "metadata": {},
     "output_type": "execute_result"
    }
   ],
   "source": [
    "\"\"\" Gaussian NB \"\"\"\n",
    "\n",
    "nb = GaussianNB()\n",
    "nb.fit(X_tr, y_tr)\n",
    "y_pred = nb.predict(X_te)\n",
    "f1_score(y_te, y_pred, average=\"macro\")"
   ]
  },
  {
   "cell_type": "code",
   "execution_count": 23,
   "metadata": {},
   "outputs": [
    {
     "data": {
      "text/plain": [
       "0.7126462311616022"
      ]
     },
     "execution_count": 23,
     "metadata": {},
     "output_type": "execute_result"
    }
   ],
   "source": [
    "\"\"\" Bagging \"\"\"\n",
    "\n",
    "clf = BaggingClassifier()\n",
    "clf.fit(X_tr, y_tr)\n",
    "y_pred = clf.predict(X_te)\n",
    "f1_score(y_te, y_pred, average=\"macro\")"
   ]
  },
  {
   "cell_type": "markdown",
   "metadata": {},
   "source": [
    "# Subtask B"
   ]
  },
  {
   "cell_type": "code",
   "execution_count": 12,
   "metadata": {},
   "outputs": [
    {
     "data": {
      "text/plain": [
       "237"
      ]
     },
     "execution_count": 12,
     "metadata": {},
     "output_type": "execute_result"
    }
   ],
   "source": [
    "\"\"\" Get ids of tweets we predicted as offensive in the previous  \"\"\"\n",
    "\n",
    "ids_b = set()\n",
    "\n",
    "for i in range(len(y_pred)):\n",
    "    if y_pred[i] == \"OFF\":\n",
    "        ids_b.add(d.df_te[\"id\"][i])\n",
    "        \n",
    "len(ids_b)"
   ]
  },
  {
   "cell_type": "code",
   "execution_count": 13,
   "metadata": {},
   "outputs": [],
   "source": [
    "d = Data()"
   ]
  },
  {
   "cell_type": "code",
   "execution_count": 14,
   "metadata": {
    "scrolled": false
   },
   "outputs": [
    {
     "name": "stderr",
     "output_type": "stream",
     "text": [
      "100%|██████████| 4400/4400 [00:04<00:00, 882.75it/s] \n",
      "100%|██████████| 4400/4400 [00:02<00:00, 1632.79it/s]\n",
      "100%|██████████| 4400/4400 [00:00<00:00, 19574.09it/s]\n",
      "100%|██████████| 157/157 [00:00<00:00, 1868.18it/s]\n",
      "100%|██████████| 157/157 [00:00<00:00, 1526.88it/s]\n",
      "100%|██████████| 157/157 [00:00<00:00, 19715.74it/s]\n"
     ]
    }
   ],
   "source": [
    "X_tr2, X_te2, y_tr2, y_te2 = d.read(subtask=\"b\", ids=ids_b)"
   ]
  },
  {
   "cell_type": "code",
   "execution_count": 15,
   "metadata": {
    "scrolled": false
   },
   "outputs": [
    {
     "data": {
      "text/plain": [
       "(4400, 4721)"
      ]
     },
     "execution_count": 15,
     "metadata": {},
     "output_type": "execute_result"
    }
   ],
   "source": [
    "X_tr2.shape"
   ]
  },
  {
   "cell_type": "code",
   "execution_count": 16,
   "metadata": {},
   "outputs": [],
   "source": [
    "save_model(d, \"data_obj\", subtask=\"b\")"
   ]
  },
  {
   "cell_type": "code",
   "execution_count": 17,
   "metadata": {},
   "outputs": [],
   "source": [
    "X_tr2 = csr_matrix(X_tr2)\n",
    "X_te2 = csr_matrix(X_te2)"
   ]
  },
  {
   "cell_type": "code",
   "execution_count": 18,
   "metadata": {},
   "outputs": [],
   "source": [
    "save_model(X_te, \"testX\", subtask=\"b\")\n",
    "save_model(y_te, \"testY\", subtask=\"b\")"
   ]
  },
  {
   "cell_type": "code",
   "execution_count": 19,
   "metadata": {
    "scrolled": false
   },
   "outputs": [
    {
     "data": {
      "text/plain": [
       "0.6985407066052227"
      ]
     },
     "execution_count": 19,
     "metadata": {},
     "output_type": "execute_result"
    }
   ],
   "source": [
    "\"\"\" Logistic Regression \"\"\"\n",
    "\n",
    "log2 = LogisticRegression(max_iter=2000, class_weight=\"balanced\")\n",
    "log2.fit(X_tr2, y_tr2)\n",
    "y_pred2 = log2.predict(X_te2)\n",
    "f1_score(y_te2, y_pred2, average=\"macro\")"
   ]
  },
  {
   "cell_type": "code",
   "execution_count": 20,
   "metadata": {},
   "outputs": [],
   "source": [
    "save_model(log2, \"log\", subtask=\"b\")"
   ]
  },
  {
   "cell_type": "code",
   "execution_count": 25,
   "metadata": {
    "scrolled": true
   },
   "outputs": [
    {
     "data": {
      "text/plain": [
       "0.6319612590799031"
      ]
     },
     "execution_count": 25,
     "metadata": {},
     "output_type": "execute_result"
    }
   ],
   "source": [
    "\"\"\" SVM \"\"\"\n",
    "\n",
    "svm2 = SVC(kernel=\"linear\", class_weight=\"balanced\")\n",
    "svm2.fit(X_tr2, y_tr2)\n",
    "y_pred2 = svm2.predict(X_te2)\n",
    "f1_score(y_te2, y_pred2, average=\"macro\")"
   ]
  },
  {
   "cell_type": "code",
   "execution_count": 26,
   "metadata": {
    "scrolled": true
   },
   "outputs": [
    {
     "data": {
      "text/plain": [
       "0.476010101010101"
      ]
     },
     "execution_count": 26,
     "metadata": {},
     "output_type": "execute_result"
    }
   ],
   "source": [
    "\"\"\" Random Forest \"\"\"\n",
    "\n",
    "rf = RandomForestClassifier(random_state=0)\n",
    "rf.fit(X_tr2, y_tr2)\n",
    "y_pred = rf.predict(X_te2)\n",
    "f1_score(y_te2, y_pred, average='macro')"
   ]
  },
  {
   "cell_type": "code",
   "execution_count": null,
   "metadata": {},
   "outputs": [],
   "source": []
  },
  {
   "cell_type": "markdown",
   "metadata": {},
   "source": [
    "# Subtask C"
   ]
  },
  {
   "cell_type": "code",
   "execution_count": 21,
   "metadata": {},
   "outputs": [
    {
     "data": {
      "text/plain": [
       "120"
      ]
     },
     "execution_count": 21,
     "metadata": {},
     "output_type": "execute_result"
    }
   ],
   "source": [
    "ids_c = set()\n",
    "\n",
    "for i in range(len(y_pred2)):\n",
    "    if y_pred2[i] == \"TIN\":\n",
    "        ids_c.add(d.df_te[\"id\"][i])\n",
    "        \n",
    "len(ids_c)        "
   ]
  },
  {
   "cell_type": "code",
   "execution_count": 22,
   "metadata": {},
   "outputs": [],
   "source": [
    "d = Data()"
   ]
  },
  {
   "cell_type": "code",
   "execution_count": 23,
   "metadata": {
    "scrolled": true
   },
   "outputs": [
    {
     "name": "stderr",
     "output_type": "stream",
     "text": [
      "100%|██████████| 3876/3876 [00:01<00:00, 2107.23it/s]\n",
      "100%|██████████| 3876/3876 [00:01<00:00, 2321.71it/s]\n",
      "100%|██████████| 3876/3876 [00:00<00:00, 22343.12it/s]\n",
      "100%|██████████| 111/111 [00:00<00:00, 2027.88it/s]\n",
      "100%|██████████| 111/111 [00:00<00:00, 1655.07it/s]\n",
      "100%|██████████| 111/111 [00:00<00:00, 17609.79it/s]\n"
     ]
    }
   ],
   "source": [
    "X_tr, X_te, y_tr, y_te = d.read(subtask=\"c\", ids=ids_c)"
   ]
  },
  {
   "cell_type": "code",
   "execution_count": 24,
   "metadata": {
    "scrolled": true
   },
   "outputs": [
    {
     "data": {
      "text/plain": [
       "(3876, 4288)"
      ]
     },
     "execution_count": 24,
     "metadata": {},
     "output_type": "execute_result"
    }
   ],
   "source": [
    "X_tr.shape"
   ]
  },
  {
   "cell_type": "code",
   "execution_count": 25,
   "metadata": {},
   "outputs": [],
   "source": [
    "save_model(d, \"data_obj\", subtask=\"c\")"
   ]
  },
  {
   "cell_type": "code",
   "execution_count": 26,
   "metadata": {},
   "outputs": [],
   "source": [
    "X_tr = csr_matrix(X_tr)\n",
    "X_te = csr_matrix(X_te)"
   ]
  },
  {
   "cell_type": "code",
   "execution_count": 27,
   "metadata": {},
   "outputs": [],
   "source": [
    "save_model(X_te, \"testX\", subtask=\"c\")\n",
    "save_model(y_te, \"testY\", subtask=\"c\")"
   ]
  },
  {
   "cell_type": "code",
   "execution_count": 28,
   "metadata": {},
   "outputs": [
    {
     "data": {
      "text/plain": [
       "0.6384019466033122"
      ]
     },
     "execution_count": 28,
     "metadata": {},
     "output_type": "execute_result"
    }
   ],
   "source": [
    "\"\"\" Logistic Regression \"\"\"\n",
    "\n",
    "log3 = LogisticRegression(max_iter=2000, class_weight=\"balanced\", C=0.47)\n",
    "log3.fit(X_tr, y_tr)\n",
    "y_pred3 = log3.predict(X_te)\n",
    "f1_score(y_te, y_pred3, average=\"macro\")"
   ]
  },
  {
   "cell_type": "code",
   "execution_count": 29,
   "metadata": {},
   "outputs": [],
   "source": [
    "save_model(log3, \"log\", subtask=\"c\")"
   ]
  },
  {
   "cell_type": "code",
   "execution_count": 36,
   "metadata": {},
   "outputs": [
    {
     "data": {
      "text/plain": [
       "0.603157791507306"
      ]
     },
     "execution_count": 36,
     "metadata": {},
     "output_type": "execute_result"
    }
   ],
   "source": [
    "\"\"\" SVM \"\"\"\n",
    "\n",
    "svm3 = SVC(kernel=\"linear\", class_weight=\"balanced\")\n",
    "svm3.fit(X_tr, y_tr)\n",
    "y_pred3 = svm3.predict(X_te)\n",
    "f1_score(y_te, y_pred3, average=\"macro\")"
   ]
  }
 ],
 "metadata": {
  "kernelspec": {
   "display_name": "Python 3",
   "language": "python",
   "name": "python3"
  },
  "language_info": {
   "codemirror_mode": {
    "name": "ipython",
    "version": 3
   },
   "file_extension": ".py",
   "mimetype": "text/x-python",
   "name": "python",
   "nbconvert_exporter": "python",
   "pygments_lexer": "ipython3",
   "version": "3.9.0"
  }
 },
 "nbformat": 4,
 "nbformat_minor": 4
}
